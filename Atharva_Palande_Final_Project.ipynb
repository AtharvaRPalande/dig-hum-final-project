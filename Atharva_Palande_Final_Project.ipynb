{
 "cells": [
  {
   "cell_type": "markdown",
   "metadata": {},
   "source": [
    "## *The Moonstone* vs *A Study in Scarlet*: An Analysis into the Detectives and the Detective Tropes\n",
    "\n",
    "Atharva Palande "
   ]
  },
  {
   "cell_type": "code",
   "execution_count": 1,
   "metadata": {},
   "outputs": [],
   "source": [
    "import requests\n",
    "import json\n",
    "import nltk\n",
    "import sklearn\n",
    "from sklearn.feature_extraction.text import CountVectorizer, TfidfVectorizer, TfidfTransformer\n",
    "import pandas as pd\n",
    "from sklearn.decomposition import PCA\n",
    "from nltk.corpus import gutenberg\n",
    "import spacy\n",
    "from collections import Counter\n",
    "import pandas as pd\n",
    "nlp = spacy.load(\"en_core_web_lg\")\n",
    "from matplotlib import pyplot as plt\n",
    "from sklearn.decomposition import PCA\n",
    "# Import a few new things for 3-D plotting. \n",
    "from mpl_toolkits.mplot3d import Axes3D, proj3d\n",
    "# This magic command is used for interactive plots. \n",
    "%matplotlib notebook\n",
    "\n",
    "from textblob import TextBlob\n",
    "from nltk import sent_tokenize\n",
    "%matplotlib inline "
   ]
  },
  {
   "cell_type": "code",
   "execution_count": 2,
   "metadata": {},
   "outputs": [
    {
     "name": "stderr",
     "output_type": "stream",
     "text": [
      "[nltk_data] Downloading package punkt to\n",
      "[nltk_data]     /Users/atharvapalande/nltk_data...\n",
      "[nltk_data]   Package punkt is already up-to-date!\n",
      "[nltk_data] Downloading collection 'book'\n",
      "[nltk_data]    | \n",
      "[nltk_data]    | Downloading package abc to\n",
      "[nltk_data]    |     /Users/atharvapalande/nltk_data...\n",
      "[nltk_data]    |   Package abc is already up-to-date!\n",
      "[nltk_data]    | Downloading package brown to\n",
      "[nltk_data]    |     /Users/atharvapalande/nltk_data...\n",
      "[nltk_data]    |   Package brown is already up-to-date!\n",
      "[nltk_data]    | Downloading package chat80 to\n",
      "[nltk_data]    |     /Users/atharvapalande/nltk_data...\n",
      "[nltk_data]    |   Package chat80 is already up-to-date!\n",
      "[nltk_data]    | Downloading package cmudict to\n",
      "[nltk_data]    |     /Users/atharvapalande/nltk_data...\n",
      "[nltk_data]    |   Package cmudict is already up-to-date!\n",
      "[nltk_data]    | Downloading package conll2000 to\n",
      "[nltk_data]    |     /Users/atharvapalande/nltk_data...\n",
      "[nltk_data]    |   Package conll2000 is already up-to-date!\n",
      "[nltk_data]    | Downloading package conll2002 to\n",
      "[nltk_data]    |     /Users/atharvapalande/nltk_data...\n",
      "[nltk_data]    |   Package conll2002 is already up-to-date!\n",
      "[nltk_data]    | Downloading package dependency_treebank to\n",
      "[nltk_data]    |     /Users/atharvapalande/nltk_data...\n",
      "[nltk_data]    |   Package dependency_treebank is already up-to-date!\n",
      "[nltk_data]    | Downloading package genesis to\n",
      "[nltk_data]    |     /Users/atharvapalande/nltk_data...\n",
      "[nltk_data]    |   Package genesis is already up-to-date!\n",
      "[nltk_data]    | Downloading package gutenberg to\n",
      "[nltk_data]    |     /Users/atharvapalande/nltk_data...\n",
      "[nltk_data]    |   Package gutenberg is already up-to-date!\n",
      "[nltk_data]    | Downloading package ieer to\n",
      "[nltk_data]    |     /Users/atharvapalande/nltk_data...\n",
      "[nltk_data]    |   Package ieer is already up-to-date!\n",
      "[nltk_data]    | Downloading package inaugural to\n",
      "[nltk_data]    |     /Users/atharvapalande/nltk_data...\n",
      "[nltk_data]    |   Package inaugural is already up-to-date!\n",
      "[nltk_data]    | Downloading package movie_reviews to\n",
      "[nltk_data]    |     /Users/atharvapalande/nltk_data...\n",
      "[nltk_data]    |   Package movie_reviews is already up-to-date!\n",
      "[nltk_data]    | Downloading package nps_chat to\n",
      "[nltk_data]    |     /Users/atharvapalande/nltk_data...\n",
      "[nltk_data]    |   Package nps_chat is already up-to-date!\n",
      "[nltk_data]    | Downloading package names to\n",
      "[nltk_data]    |     /Users/atharvapalande/nltk_data...\n",
      "[nltk_data]    |   Package names is already up-to-date!\n",
      "[nltk_data]    | Downloading package ppattach to\n",
      "[nltk_data]    |     /Users/atharvapalande/nltk_data...\n",
      "[nltk_data]    |   Package ppattach is already up-to-date!\n",
      "[nltk_data]    | Downloading package reuters to\n",
      "[nltk_data]    |     /Users/atharvapalande/nltk_data...\n",
      "[nltk_data]    |   Package reuters is already up-to-date!\n",
      "[nltk_data]    | Downloading package senseval to\n",
      "[nltk_data]    |     /Users/atharvapalande/nltk_data...\n",
      "[nltk_data]    |   Package senseval is already up-to-date!\n",
      "[nltk_data]    | Downloading package state_union to\n",
      "[nltk_data]    |     /Users/atharvapalande/nltk_data...\n",
      "[nltk_data]    |   Package state_union is already up-to-date!\n",
      "[nltk_data]    | Downloading package stopwords to\n",
      "[nltk_data]    |     /Users/atharvapalande/nltk_data...\n",
      "[nltk_data]    |   Package stopwords is already up-to-date!\n",
      "[nltk_data]    | Downloading package swadesh to\n",
      "[nltk_data]    |     /Users/atharvapalande/nltk_data...\n",
      "[nltk_data]    |   Package swadesh is already up-to-date!\n",
      "[nltk_data]    | Downloading package timit to\n",
      "[nltk_data]    |     /Users/atharvapalande/nltk_data...\n",
      "[nltk_data]    |   Package timit is already up-to-date!\n",
      "[nltk_data]    | Downloading package treebank to\n",
      "[nltk_data]    |     /Users/atharvapalande/nltk_data...\n",
      "[nltk_data]    |   Package treebank is already up-to-date!\n",
      "[nltk_data]    | Downloading package toolbox to\n",
      "[nltk_data]    |     /Users/atharvapalande/nltk_data...\n",
      "[nltk_data]    |   Package toolbox is already up-to-date!\n",
      "[nltk_data]    | Downloading package udhr to\n",
      "[nltk_data]    |     /Users/atharvapalande/nltk_data...\n",
      "[nltk_data]    |   Package udhr is already up-to-date!\n",
      "[nltk_data]    | Downloading package udhr2 to\n",
      "[nltk_data]    |     /Users/atharvapalande/nltk_data...\n",
      "[nltk_data]    |   Package udhr2 is already up-to-date!\n",
      "[nltk_data]    | Downloading package unicode_samples to\n",
      "[nltk_data]    |     /Users/atharvapalande/nltk_data...\n",
      "[nltk_data]    |   Package unicode_samples is already up-to-date!\n",
      "[nltk_data]    | Downloading package webtext to\n",
      "[nltk_data]    |     /Users/atharvapalande/nltk_data...\n",
      "[nltk_data]    |   Package webtext is already up-to-date!\n",
      "[nltk_data]    | Downloading package wordnet to\n",
      "[nltk_data]    |     /Users/atharvapalande/nltk_data...\n",
      "[nltk_data]    |   Package wordnet is already up-to-date!\n",
      "[nltk_data]    | Downloading package wordnet_ic to\n",
      "[nltk_data]    |     /Users/atharvapalande/nltk_data...\n",
      "[nltk_data]    |   Package wordnet_ic is already up-to-date!\n",
      "[nltk_data]    | Downloading package words to\n",
      "[nltk_data]    |     /Users/atharvapalande/nltk_data...\n",
      "[nltk_data]    |   Package words is already up-to-date!\n",
      "[nltk_data]    | Downloading package maxent_treebank_pos_tagger to\n",
      "[nltk_data]    |     /Users/atharvapalande/nltk_data...\n",
      "[nltk_data]    |   Package maxent_treebank_pos_tagger is already up-\n",
      "[nltk_data]    |       to-date!\n",
      "[nltk_data]    | Downloading package maxent_ne_chunker to\n",
      "[nltk_data]    |     /Users/atharvapalande/nltk_data...\n",
      "[nltk_data]    |   Package maxent_ne_chunker is already up-to-date!\n",
      "[nltk_data]    | Downloading package universal_tagset to\n",
      "[nltk_data]    |     /Users/atharvapalande/nltk_data...\n",
      "[nltk_data]    |   Package universal_tagset is already up-to-date!\n",
      "[nltk_data]    | Downloading package punkt to\n",
      "[nltk_data]    |     /Users/atharvapalande/nltk_data...\n",
      "[nltk_data]    |   Package punkt is already up-to-date!\n",
      "[nltk_data]    | Downloading package book_grammars to\n",
      "[nltk_data]    |     /Users/atharvapalande/nltk_data...\n",
      "[nltk_data]    |   Package book_grammars is already up-to-date!\n",
      "[nltk_data]    | Downloading package city_database to\n",
      "[nltk_data]    |     /Users/atharvapalande/nltk_data...\n",
      "[nltk_data]    |   Package city_database is already up-to-date!\n",
      "[nltk_data]    | Downloading package tagsets to\n",
      "[nltk_data]    |     /Users/atharvapalande/nltk_data...\n",
      "[nltk_data]    |   Package tagsets is already up-to-date!\n",
      "[nltk_data]    | Downloading package panlex_swadesh to\n",
      "[nltk_data]    |     /Users/atharvapalande/nltk_data...\n",
      "[nltk_data]    |   Package panlex_swadesh is already up-to-date!\n",
      "[nltk_data]    | Downloading package averaged_perceptron_tagger to\n",
      "[nltk_data]    |     /Users/atharvapalande/nltk_data...\n",
      "[nltk_data]    |   Package averaged_perceptron_tagger is already up-\n",
      "[nltk_data]    |       to-date!\n",
      "[nltk_data]    | \n",
      "[nltk_data]  Done downloading collection book\n"
     ]
    },
    {
     "data": {
      "text/plain": [
       "True"
      ]
     },
     "execution_count": 2,
     "metadata": {},
     "output_type": "execute_result"
    }
   ],
   "source": [
    "nltk.word_tokenize\n",
    "nltk.download(\"punkt\")\n",
    "nltk.download(\"book\")"
   ]
  },
  {
   "cell_type": "code",
   "execution_count": 3,
   "metadata": {},
   "outputs": [],
   "source": [
    "moonstone = open(\"moonstone.md\").read()"
   ]
  },
  {
   "cell_type": "code",
   "execution_count": 4,
   "metadata": {},
   "outputs": [],
   "source": [
    "# The point here is to split everything apart and tokenize it\n",
    "moonstone = open(\"moonstone.md\").read()\n",
    "moonstoneParts = moonstone.split(\"##\")\n",
    "\n",
    "betteredgeChapters = moonstoneParts[5:29]\n",
    "betteredge = '\\n'.join(betteredgeChapters)\n",
    "betWords = betteredge.split()\n",
    "\n",
    "clackChapters = moonstoneParts[31:39]\n",
    "clack = '\\n'.join(clackChapters)\n",
    "clackWords = clack.split()\n",
    "\n",
    "bruffChapters = moonstoneParts[40:43]\n",
    "bruff = '\\n'.join(bruffChapters)\n",
    "bruffWords = bruff.split()\n",
    "\n",
    "blakeChapters = moonstoneParts[44:53]\n",
    "blake = \"\\n\".join(blakeChapters)\n",
    "blackWords = blake.split()\n",
    "\n",
    "betteredgeWords = nltk.word_tokenize(betteredge)\n",
    "clackWords2 = nltk.word_tokenize(clack)\n",
    "bruffWords2 = nltk.word_tokenize(bruff)\n",
    "blakeWords2 = nltk.word_tokenize(blake)\n",
    "\n",
    "\n",
    "betteredgeText = nltk.Text(betteredgeWords, name = \"Betteredge's narrative\")\n",
    "clackText = nltk.Text(clackWords2, name = \"Clack's narrative\")\n",
    "bruffText = nltk.Text(bruffWords2, name = \"Bruff's narrative\")\n",
    "blakeText = nltk.Text(blakeWords2, name = \"Blake's narrative\")\n",
    "\n",
    "moonstoneMotif = [\"Sergeant\", \"Cuff\"]\n",
    "\n",
    "#Provide a dispersion plot of the words here \n",
    "\n",
    "#betteredgeText.dispersion_plot(moonstoneMotif) #subplot #1 - this allowed me to narrow down my subtext to only Betteredge\n",
    "\n",
    "#clackText.dispersion_plot(moonstoneMotif)\n",
    "\n",
    "#bruffText.dispersion_plot(moonstoneMotif)\n",
    "\n",
    "#blakeText.dispersion_plot(moonstoneMotif)\n",
    "\n",
    "#Last three texts\n"
   ]
  },
  {
   "cell_type": "code",
   "execution_count": 5,
   "metadata": {},
   "outputs": [],
   "source": [
    "#Download the book\n",
    "from nltk.corpus import wordnet as wn\n",
    "scarlet = open(\"AStudyInScarlet.md\").read()\n",
    "scarletWords = nltk.word_tokenize(scarlet)\n",
    "scarletText = nltk.Text(scarletWords, name = \"A Study in Scarlet\")\n",
    "\n",
    "scarletMotif = [\"Sherlock\", \"Holmes\"]\n",
    "\n",
    "\n",
    "#See how many times the text is referenced here as well: Subplot 2\n",
    "#scarletText.dispersion_plot(scarletMotif)\n"
   ]
  },
  {
   "cell_type": "code",
   "execution_count": 6,
   "metadata": {},
   "outputs": [],
   "source": [
    "scarletDoc = nlp(scarlet)"
   ]
  },
  {
   "cell_type": "code",
   "execution_count": 7,
   "metadata": {},
   "outputs": [],
   "source": [
    "moonstoneParts = moonstone.split(\"##\")\n",
    "betteredgeChapters = moonstoneParts[5:20]\n",
    "betteredge = '\\n'.join(betteredgeChapters)\n",
    "betteredgeDoc = nlp(betteredge)"
   ]
  },
  {
   "cell_type": "code",
   "execution_count": 8,
   "metadata": {},
   "outputs": [],
   "source": [
    "#Function to get all the common verbs in both texts\n",
    "def getCommonVerbs(doc):\n",
    "    verbs = []\n",
    "    for word in doc:\n",
    "        if word.pos_ == \"VERB\":\n",
    "            verbs.append(word.lemma_)\n",
    "    return Counter(verbs).most_common(20)\n",
    "\n",
    "storiesVerbs = {\"A Study in Scarlet\": getCommonVerbs(scarletDoc), \"Moonstone: Betteredge (P1)\": getCommonVerbs(betteredgeDoc)}"
   ]
  },
  {
   "cell_type": "code",
   "execution_count": 9,
   "metadata": {},
   "outputs": [],
   "source": [
    "from textblob import TextBlob\n",
    "from nltk import sent_tokenize\n",
    "%matplotlib inline "
   ]
  },
  {
   "cell_type": "code",
   "execution_count": 10,
   "metadata": {},
   "outputs": [],
   "source": [
    "scarletBlob = TextBlob(scarlet)\n",
    "betteredgeBlob = TextBlob(betteredge)"
   ]
  },
  {
   "cell_type": "code",
   "execution_count": 11,
   "metadata": {},
   "outputs": [],
   "source": [
    "#Used below to compare overall sentiments\n",
    "collections = [scarletBlob, betteredgeBlob]\n",
    "collectionsSentiments = [item.polarity for item in collections]"
   ]
  },
  {
   "cell_type": "code",
   "execution_count": 12,
   "metadata": {},
   "outputs": [],
   "source": [
    "#Will allow the following function to go through the texts sentence by sentence\n",
    "scarletSentences = nltk.sent_tokenize(scarlet)\n",
    "betteredgeSentences = nltk.sent_tokenize(betteredge)"
   ]
  },
  {
   "cell_type": "code",
   "execution_count": 13,
   "metadata": {},
   "outputs": [],
   "source": [
    "#Function to condense the code to find the sentiments are once\n",
    "def polarityFinder(sentences):\n",
    "    return [TextBlob(sent).sentiment.polarity for sent in sentences]"
   ]
  },
  {
   "cell_type": "code",
   "execution_count": 14,
   "metadata": {},
   "outputs": [],
   "source": [
    "#Seperation to find the polarity sentence by sentence\n",
    "sPolarity = polarityFinder(scarletSentences)\n",
    "bPolarity = polarityFinder(betteredgeSentences)"
   ]
  },
  {
   "cell_type": "code",
   "execution_count": 15,
   "metadata": {},
   "outputs": [],
   "source": [
    "#pd.Series(sPolarity).plot()\n",
    " \n",
    "\n",
    "\n",
    "#print out the Scarlet polarity - subplot 3"
   ]
  },
  {
   "cell_type": "code",
   "execution_count": 16,
   "metadata": {},
   "outputs": [],
   "source": [
    "#pd.Series(bPolarity).plot()\n",
    "#subplot 4"
   ]
  },
  {
   "cell_type": "code",
   "execution_count": null,
   "metadata": {},
   "outputs": [],
   "source": [
    "#Testing inputs according to what a user might want to check:\n",
    "#This allowed me to find character descriptions\n",
    "\n",
    "initialInput = input('What text do you want to check: \"A Study in Scarlet\" or \"Moonstone: Betteredge\" (Input: \"S\" or \"M\" for your choice)')\n",
    "if initialInput == \"S\":\n",
    "    choice = input(\"What is the word you want to check:\")\n",
    "    scarletText.concordance(choice)\n",
    "if initialInput == \"M\":\n",
    "    choice = input(\"What is the word you want to check:\")\n",
    "    betteredgeText.concordance(choice)\n",
    "else:\n",
    "    print(\"Please retype your choice!\")"
   ]
  },
  {
   "cell_type": "code",
   "execution_count": null,
   "metadata": {},
   "outputs": [],
   "source": [
    "#Testing inputs according to what a user might want to check:\n",
    "#This allowed me to find character descriptions\n",
    "\n",
    "initialInput = input('What text do you want to check: \"A Study in Scarlet\" or \"Moonstone: Betteredge\" (Input: \"S\" or \"M\" for your choice)')\n",
    "if initialInput == \"S\":\n",
    "    choice = input(\"What is the word you want to check:\")\n",
    "    scarletText.concordance(choice)\n",
    "if initialInput == \"M\":\n",
    "    choice = input(\"What is the word you want to check:\")\n",
    "    betteredgeText.concordance(choice)\n",
    "else:\n",
    "    print(\"Please retype your choice!\")"
   ]
  },
  {
   "cell_type": "code",
   "execution_count": null,
   "metadata": {},
   "outputs": [],
   "source": [
    "pd.Series(collectionsSentiments, index=['A Study in Scarlet', 'Moonstone: Betteredge Text']).plot(kind='bar')\n",
    "\n",
    "#comparison of the sentiments - this is a basic combination of both the subplots 3 and 4 as well in my analysis"
   ]
  },
  {
   "cell_type": "code",
   "execution_count": null,
   "metadata": {},
   "outputs": [],
   "source": [
    "pd.DataFrame(storiesVerbs)"
   ]
  },
  {
   "cell_type": "markdown",
   "metadata": {},
   "source": [
    "## Comparative Analysis: A Study in Scarlet and The Moonstone (Betteredge Part 1)\n",
    "\n",
    "My analysis focuses on the similiarities and differences of *The Moonstone* and *A Study in Scarlet*. Both texts are the archetypal detective novels and have many common themes. In this, I wanted to explore the character descriptions of both Sergeant Cuff and Sherlock Holmes, the sentiments of the text (primiarly Betteredge Part 1 for *The Moonstone*), and the types of verbs used throughout the text. I believe that this gives an actionable insight into both texts and allows for a proper analysis to be completed. \n",
    "\n",
    "*The Moonstone*, written in 1861 by Wilkie Collins, is the cornerstone of the detective genre. Many common tropes such as (1) loyalty to the client, (2) being economical, (3) loyalty to the profession, (4) cooperation with the authorities, (5) survivalist, and (6) unwillingness to being duped are established within The Moonstone and are seen in the actions of Sergeant Cuff (Marling 1983). \n",
    "\n",
    "For people who are unaware of *A Study in Scarlet*, a quick summary is that the text is written by Sir Arthur Conan Doyle in 1887. It’s the introduction to the world of Sherlock Holmes and is split into two different parts. The first half covers the investigation of a murder by a cabbie and his arrest. The second half covers the story of the cabby and how Holmes approached his deduction. At the end however, the cabby dies the day before he is supposed to appear at court. But more importantly for the series, after the police get the credit, Watson decides the “publish” the stories (in-universe) and thus kicking off the world of Sherlock Holmes. \n",
    "\n",
    "In regard to why only Betteredge Part 1 was picked – it was simply due to the incredibly numerous instances of how often Sergeant Cuff was mentioned or simply there compared to the rest of the parts. Thus, it was best suited to carry out the analysis. But before taking a deep dive into what this means for Sherlock Holmes, let’s look at the ways Sergeant Cuff is described. On that train of thought, within the code below, I’ve analyzed the different collocations for descriptions of the Sergeant. Throughout the text, he’s referenced in conjunction with Betteredge (a loyal sidekick) and roses (his strange hobby). He’s described as “miserably lean” and Betteredge even goes as far as to describe him as “a less comforting officer to look at” when in comparison to Sergeant Seegrave. Of course, later on, he does attempt to also solve the mystery at hand by recreating the moment of it being stolen and does make a decent headway into the case itself before being let go. But yet throughout, he is looked upon as a confident figure and someone who can/could have solved the case. \n",
    "\n",
    "Now, comparing these character descriptions to Sherlock, we find a lot of similar tropes in regards practicing a “consultancy” but for his clients in regard to crime. Sherlock follows all 6 themes listed above and perhaps exemplifies them better. In regard to the main focus on the code and what is displayed however, he also follows the ideas of having a “loyal sidekick” and an unassuming hobby for someone of his nature. Here, they are Watson and playing the violin (respectively). Moreover, he too does exemplify a lot of the character descriptions that Sergeant Cuff has with his own style of “gauntness” and a dominating figure when it comes to height (of course that is subject to what the case requires). Moreover, he follows through on the procedural steps that Doyle’s predecessor wrote. Bit by bit, with recreation of the crime as well and with the assistance of the Watson, the mystery is solved. Of course, Sergeant Cuff does not manage to solve the case, but the similarities are exceedingly striking. \n",
    "\n",
    "Another focus of mine was to look at the average sentiment per sentence in the text. This would give us a general idea of what the tone and mood is throughout the text. Strikingly enough, The Moonstone starts out quite positive. This might be explained away by the overall mood of the festivity, but as expected, the mood takes a drop around the time when the diamond is stolen. As expected, there are oscillations between the positive and the negative, but around the halfway mark, the negative seems to slowly decrease. This can be explained by a progress in the investigation itself and it seemingly ends on a more or less average note – with the negative far decreased compared to where it ranging to earlier. \n",
    "\n",
    "*A Study in Scarlet* takes a different route in that regard. It does start off with the vague sense of mystery and here too, the sentiment hovers between the positive and the negative. But what’s striking is what happened in the second half which almost perfectly encapsulates the tragic second part of the text – where everything goes wrong for the suspect back in Utah. And the tragedy continues to happen until the very near end where Hope (the suspect) has an aneurism the night before he goes to trial. In the end, as with any universal conclusion, the text returns to normal and seemingly peters out in regard to emotion. \n",
    "\n",
    "Of course, comparing all of this in such a miniscule and inexact format is inefficient. While it does allow a viewer to see the sharp spikes, it remains impossible to accurately quantify the sentiment (if at all). That’s why I included a bar chart – to provide a way to reasonably compare both texts. And I found what I expected to see from the rough estimate I had made visually: A Study in Scarlet had a less positive sentiment compared to *The Moonstone*. \n",
    "\n",
    "Personally, I find myself attributing this to one reason: the fact that I only picked a certain section of The Moonstone while only allowing A Study in Scarlet to reach a proper conclusion. Moreover, I personally find it that The Moonstone is quite “accepting” of this loss and while there is an initial backlash and it remains the object of desire until the end – there’s no specific “rush” to find it and recover it. Moreover, the loss of the diamond is not drastic in regards to death or murder, unlike Hope’s story in Utah with the Mormons and in England as well. In a sense, words such as “death” or “murder” will further push the sentiment down compared to the loss of only a diamond. \n",
    "\n",
    "Moreover, I think this only goes further into the general depth of the Doyle’s stories: they are serious cases involving major losses, murder, and death. Oftentimes, they involve themes that involve the undercurrent of drugs, depression, affairs amongst many other things. And arguably enough, while Sherlock is similar to Sergeant Cuff in certain respects, he is quite different in others. This particularly appears in the way he transcends human power in his skills of deduction and his absolute determination to solve something and not let it go. \n",
    "\n",
    "The last thing I wanted to focus on, but not as meaningful, was the amount of verbs present in the separate texts. Unfortunately, at least to me, the results did provide anything exceedingly meaningful. Both lists had quite common verbs provided in the top 20. Nonetheless, if I could glean one nugget of information from them was the *A Study in Scarlet* simply had a lot more words. Of course, one of the reasons would be the fact that the text is simply longer than The Moonstone. Thus, the case is not allowed to completely unravel itself and find a suitable conclusion. By the close of the first part, there are still more than a handful of threads to wrap up. In that sense, The Moonstone takes a much slower pace. This becomes especially evident near the end of the first part because there seems to be an aspect of acceptance settling into the cast of characters – thus pushing the issue further down the road. \n",
    "\n",
    "Yet, it cannot help but strike me that Doyle’s work is simply more action-orientated compared to Collin’s. For Doyle, this work – while about the procedural work – is the action behind getting to the result of who committed the crime. Moreover, both Sherlock and Watson do more than just investigate what happened, but they also interact with the crime scene, they have banter, and they come to life through this. Collin’s Cuff and his work on the other hand seems more detached compared to his contemporary. Sergeant Cuff and Betteredge investigate, but they never truly chase the mystery to the extent that Sherlock and Watson do. \n",
    "\n",
    "Still, this comes with the disclaimer and the important lesson that not everything that is analyzed is useful and neither should there be the expectation of usefulness. Understanding this and learning from it will ensure that time is not needlessly spent chasing rabbit holes and that all types of analysis necessarily hold value in particular circumstances. If anything else, had I been even a bit unluckier, those results would simply have gone down the drain. \n",
    "\n",
    "At the end of the day, both *The Moonstone* and *A Study in Scarlet* have both striking similarities and striking differences. While they follow the common themes and tropes of a detective novel, they differ in how they go about about it. In my analysis, I found the similarities and differences in both detectives, the sentiments of the text in how it progresses and is presented, and the types of verbs that are presented. Yet, it does become clear that *The Moonstone* was instrumental in being one of the first “true” detective novels that paved the way for procedurals such as Sherlock Holmes. In that, *The Moonstone* holds tremendous literary value. \n",
    "\n",
    "Works Cited:\n",
    "\n",
    "Marling, William. Dashiell Hammett. Twayne, 1983.\n"
   ]
  },
  {
   "cell_type": "code",
   "execution_count": null,
   "metadata": {},
   "outputs": [],
   "source": []
  }
 ],
 "metadata": {
  "kernelspec": {
   "display_name": "Python 3",
   "language": "python",
   "name": "python3"
  },
  "language_info": {
   "codemirror_mode": {
    "name": "ipython",
    "version": 3
   },
   "file_extension": ".py",
   "mimetype": "text/x-python",
   "name": "python",
   "nbconvert_exporter": "python",
   "pygments_lexer": "ipython3",
   "version": "3.7.6"
  }
 },
 "nbformat": 4,
 "nbformat_minor": 4
}
